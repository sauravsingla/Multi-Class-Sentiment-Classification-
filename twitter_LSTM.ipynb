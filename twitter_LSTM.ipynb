{
  "nbformat": 4,
  "nbformat_minor": 0,
  "metadata": {
    "colab": {
      "name": "twitter_LSTM",
      "provenance": [],
      "collapsed_sections": [],
      "include_colab_link": true
    },
    "kernelspec": {
      "name": "python3",
      "display_name": "Python 3"
    },
    "accelerator": "GPU"
  },
  "cells": [
    {
      "cell_type": "markdown",
      "metadata": {
        "id": "view-in-github",
        "colab_type": "text"
      },
      "source": [
        "<a href=\"https://colab.research.google.com/github/sauravsingla/Multi-Class-Sentiment-Classification-/blob/main/twitter_LSTM.ipynb\" target=\"_parent\"><img src=\"https://colab.research.google.com/assets/colab-badge.svg\" alt=\"Open In Colab\"/></a>"
      ]
    },
    {
      "cell_type": "code",
      "metadata": {
        "id": "g6X_oFqGUUCQ",
        "colab": {
          "base_uri": "https://localhost:8080/"
        },
        "outputId": "29121821-d23d-4e92-d60f-1dc355c756b8"
      },
      "source": [
        " from google.colab import drive\n",
        "drive.mount('/content/drive')"
      ],
      "execution_count": null,
      "outputs": [
        {
          "output_type": "stream",
          "text": [
            "Drive already mounted at /content/drive; to attempt to forcibly remount, call drive.mount(\"/content/drive\", force_remount=True).\n"
          ],
          "name": "stdout"
        }
      ]
    },
    {
      "cell_type": "code",
      "metadata": {
        "id": "8uhKK3H30HKV"
      },
      "source": [
        "import pandas as pd\n",
        "from collections import Counter\n",
        "from sklearn.model_selection import train_test_split\n",
        "import numpy as np\n",
        "import matplotlib.pyplot as plt\n",
        "import os\n",
        "from keras.models import Model\n",
        "from keras.layers import Dense, Embedding, Input, Flatten\n",
        "from keras.layers import LSTM, Bidirectional, GlobalMaxPool1D, Dropout\n",
        "from keras.preprocessing.text import Tokenizer\n",
        "from keras.preprocessing.sequence import pad_sequences\n",
        "from keras.optimizers import Adam\n",
        "from keras.utils import np_utils\n",
        "from sklearn.preprocessing import LabelEncoder\n",
        "import nltk\n",
        "from nltk.corpus import stopwords\n",
        "import re\n",
        "from pandas import DataFrame\n",
        "from nltk.stem import WordNetLemmatizer \n",
        "from sklearn.metrics import confusion_matrix\n",
        "from sklearn.metrics import classification_report"
      ],
      "execution_count": null,
      "outputs": []
    },
    {
      "cell_type": "code",
      "metadata": {
        "id": "Pn78ZVGj3t6e",
        "colab": {
          "base_uri": "https://localhost:8080/"
        },
        "outputId": "10c621ff-c866-459d-b5ea-dbb0f5e6f6cc"
      },
      "source": [
        "#########  PREPROCESSING PART #################################################\n",
        "df = pd.read_csv(\"/content/drive/My Drive/NLP/text_emotion.csv\")\n",
        "df = df.drop([\"tweet_id\",\"author\"],axis = 1)\n",
        "print(df.head())"
      ],
      "execution_count": null,
      "outputs": [
        {
          "output_type": "stream",
          "text": [
            "    sentiment                                            content\n",
            "0       empty  @tiffanylue i know  i was listenin to bad habi...\n",
            "1     sadness  Layin n bed with a headache  ughhhh...waitin o...\n",
            "2     sadness                Funeral ceremony...gloomy friday...\n",
            "3  enthusiasm               wants to hang out with friends SOON!\n",
            "4     neutral  @dannycastillo We want to trade with someone w...\n"
          ],
          "name": "stdout"
        }
      ]
    },
    {
      "cell_type": "code",
      "metadata": {
        "id": "JBbNLEUK0VnK",
        "colab": {
          "base_uri": "https://localhost:8080/"
        },
        "outputId": "2b132e5c-5c16-43ea-d432-5ee523d00a07"
      },
      "source": [
        "df['target'] = df['sentiment'].map({'sadness': 0, 'enthusiasm':1,'neutral':2,'worry':3,'surprise':4,'love':5,'fun':6,'hate':7,'happiness':8,'boredom':9,'relief':10,'anger':11,'empty':12})\n",
        "print(df.head())"
      ],
      "execution_count": null,
      "outputs": [
        {
          "output_type": "stream",
          "text": [
            "    sentiment                                            content  target\n",
            "0       empty  @tiffanylue i know  i was listenin to bad habi...      12\n",
            "1     sadness  Layin n bed with a headache  ughhhh...waitin o...       0\n",
            "2     sadness                Funeral ceremony...gloomy friday...       0\n",
            "3  enthusiasm               wants to hang out with friends SOON!       1\n",
            "4     neutral  @dannycastillo We want to trade with someone w...       2\n"
          ],
          "name": "stdout"
        }
      ]
    },
    {
      "cell_type": "code",
      "metadata": {
        "id": "lWSAO8j_0a81",
        "colab": {
          "base_uri": "https://localhost:8080/"
        },
        "outputId": "5d22cadd-1ba6-4f75-d57c-eb153d850896"
      },
      "source": [
        "df = df.drop([\"sentiment\"],axis=1)\n",
        "print(df)"
      ],
      "execution_count": null,
      "outputs": [
        {
          "output_type": "stream",
          "text": [
            "                                                 content  target\n",
            "0      @tiffanylue i know  i was listenin to bad habi...      12\n",
            "1      Layin n bed with a headache  ughhhh...waitin o...       0\n",
            "2                    Funeral ceremony...gloomy friday...       0\n",
            "3                   wants to hang out with friends SOON!       1\n",
            "4      @dannycastillo We want to trade with someone w...       2\n",
            "...                                                  ...     ...\n",
            "39995                                   @JohnLloydTaylor       2\n",
            "39996                     Happy Mothers Day  All my love       5\n",
            "39997  Happy Mother's Day to all the mommies out ther...       5\n",
            "39998  @niariley WASSUP BEAUTIFUL!!! FOLLOW ME!!  PEE...       8\n",
            "39999  @mopedronin bullet train from tokyo    the gf ...       5\n",
            "\n",
            "[40000 rows x 2 columns]\n"
          ],
          "name": "stdout"
        }
      ]
    },
    {
      "cell_type": "code",
      "metadata": {
        "id": "JPRUrsCMjAsQ",
        "colab": {
          "base_uri": "https://localhost:8080/"
        },
        "outputId": "8627ecd8-6ab3-42a5-a5ab-ee25b9b8e66b"
      },
      "source": [
        "nltk.download('stopwords')\n",
        "stopwords = set(stopwords.words('english'))\n",
        "output = []\n",
        "for sentence in df[\"content\"]:\n",
        "    temp_list = []\n",
        "    for word in sentence.split():\n",
        "      if word.lower() not in stopwords:\n",
        "        temp_list.append(word)\n",
        "    output.append(' '.join(temp_list))"
      ],
      "execution_count": null,
      "outputs": [
        {
          "output_type": "stream",
          "text": [
            "[nltk_data] Downloading package stopwords to /root/nltk_data...\n",
            "[nltk_data]   Unzipping corpora/stopwords.zip.\n"
          ],
          "name": "stdout"
        }
      ]
    },
    {
      "cell_type": "code",
      "metadata": {
        "id": "o4HXUgI2jvyy",
        "colab": {
          "base_uri": "https://localhost:8080/",
          "height": 191
        },
        "outputId": "6bfcbc59-830c-4a70-c682-d92085c5b86d"
      },
      "source": [
        "df[\"clean\"] = output\n",
        "tw = []\n",
        "for j in df['clean']:\n",
        "  tweets = ' '.join(re.sub(\"(@[A-Za-z0-9]+)|([^0-9A-Za-z \\t])|(\\w+:\\/\\/\\S+)\", \" \", str(j)).split())\n",
        "  tw.append(tweets)\n",
        "df['cleaned'] = tw\n",
        "df.head()"
      ],
      "execution_count": null,
      "outputs": [
        {
          "output_type": "execute_result",
          "data": {
            "text/html": [
              "<div>\n",
              "<style scoped>\n",
              "    .dataframe tbody tr th:only-of-type {\n",
              "        vertical-align: middle;\n",
              "    }\n",
              "\n",
              "    .dataframe tbody tr th {\n",
              "        vertical-align: top;\n",
              "    }\n",
              "\n",
              "    .dataframe thead th {\n",
              "        text-align: right;\n",
              "    }\n",
              "</style>\n",
              "<table border=\"1\" class=\"dataframe\">\n",
              "  <thead>\n",
              "    <tr style=\"text-align: right;\">\n",
              "      <th></th>\n",
              "      <th>content</th>\n",
              "      <th>target</th>\n",
              "      <th>clean</th>\n",
              "      <th>cleaned</th>\n",
              "    </tr>\n",
              "  </thead>\n",
              "  <tbody>\n",
              "    <tr>\n",
              "      <th>0</th>\n",
              "      <td>@tiffanylue i know  i was listenin to bad habi...</td>\n",
              "      <td>12</td>\n",
              "      <td>@tiffanylue know listenin bad habit earlier st...</td>\n",
              "      <td>know listenin bad habit earlier started freaki...</td>\n",
              "    </tr>\n",
              "    <tr>\n",
              "      <th>1</th>\n",
              "      <td>Layin n bed with a headache  ughhhh...waitin o...</td>\n",
              "      <td>0</td>\n",
              "      <td>Layin n bed headache ughhhh...waitin call...</td>\n",
              "      <td>Layin n bed headache ughhhh waitin call</td>\n",
              "    </tr>\n",
              "    <tr>\n",
              "      <th>2</th>\n",
              "      <td>Funeral ceremony...gloomy friday...</td>\n",
              "      <td>0</td>\n",
              "      <td>Funeral ceremony...gloomy friday...</td>\n",
              "      <td>Funeral ceremony gloomy friday</td>\n",
              "    </tr>\n",
              "    <tr>\n",
              "      <th>3</th>\n",
              "      <td>wants to hang out with friends SOON!</td>\n",
              "      <td>1</td>\n",
              "      <td>wants hang friends SOON!</td>\n",
              "      <td>wants hang friends SOON</td>\n",
              "    </tr>\n",
              "    <tr>\n",
              "      <th>4</th>\n",
              "      <td>@dannycastillo We want to trade with someone w...</td>\n",
              "      <td>2</td>\n",
              "      <td>@dannycastillo want trade someone Houston tick...</td>\n",
              "      <td>want trade someone Houston tickets one will</td>\n",
              "    </tr>\n",
              "  </tbody>\n",
              "</table>\n",
              "</div>"
            ],
            "text/plain": [
              "                                             content  ...                                            cleaned\n",
              "0  @tiffanylue i know  i was listenin to bad habi...  ...  know listenin bad habit earlier started freaki...\n",
              "1  Layin n bed with a headache  ughhhh...waitin o...  ...            Layin n bed headache ughhhh waitin call\n",
              "2                Funeral ceremony...gloomy friday...  ...                     Funeral ceremony gloomy friday\n",
              "3               wants to hang out with friends SOON!  ...                            wants hang friends SOON\n",
              "4  @dannycastillo We want to trade with someone w...  ...        want trade someone Houston tickets one will\n",
              "\n",
              "[5 rows x 4 columns]"
            ]
          },
          "metadata": {
            "tags": []
          },
          "execution_count": 8
        }
      ]
    },
    {
      "cell_type": "code",
      "metadata": {
        "id": "iRjAw0HobT8I",
        "colab": {
          "base_uri": "https://localhost:8080/",
          "height": 191
        },
        "outputId": "32a13278-fe30-4ad6-d19b-12537d1dcc0d"
      },
      "source": [
        "df = df.drop([\"content\",\"clean\"],axis=1)\n",
        "df.head()"
      ],
      "execution_count": null,
      "outputs": [
        {
          "output_type": "execute_result",
          "data": {
            "text/html": [
              "<div>\n",
              "<style scoped>\n",
              "    .dataframe tbody tr th:only-of-type {\n",
              "        vertical-align: middle;\n",
              "    }\n",
              "\n",
              "    .dataframe tbody tr th {\n",
              "        vertical-align: top;\n",
              "    }\n",
              "\n",
              "    .dataframe thead th {\n",
              "        text-align: right;\n",
              "    }\n",
              "</style>\n",
              "<table border=\"1\" class=\"dataframe\">\n",
              "  <thead>\n",
              "    <tr style=\"text-align: right;\">\n",
              "      <th></th>\n",
              "      <th>target</th>\n",
              "      <th>cleaned</th>\n",
              "    </tr>\n",
              "  </thead>\n",
              "  <tbody>\n",
              "    <tr>\n",
              "      <th>0</th>\n",
              "      <td>12</td>\n",
              "      <td>know listenin bad habit earlier started freaki...</td>\n",
              "    </tr>\n",
              "    <tr>\n",
              "      <th>1</th>\n",
              "      <td>0</td>\n",
              "      <td>Layin n bed headache ughhhh waitin call</td>\n",
              "    </tr>\n",
              "    <tr>\n",
              "      <th>2</th>\n",
              "      <td>0</td>\n",
              "      <td>Funeral ceremony gloomy friday</td>\n",
              "    </tr>\n",
              "    <tr>\n",
              "      <th>3</th>\n",
              "      <td>1</td>\n",
              "      <td>wants hang friends SOON</td>\n",
              "    </tr>\n",
              "    <tr>\n",
              "      <th>4</th>\n",
              "      <td>2</td>\n",
              "      <td>want trade someone Houston tickets one will</td>\n",
              "    </tr>\n",
              "  </tbody>\n",
              "</table>\n",
              "</div>"
            ],
            "text/plain": [
              "   target                                            cleaned\n",
              "0      12  know listenin bad habit earlier started freaki...\n",
              "1       0            Layin n bed headache ughhhh waitin call\n",
              "2       0                     Funeral ceremony gloomy friday\n",
              "3       1                            wants hang friends SOON\n",
              "4       2        want trade someone Houston tickets one will"
            ]
          },
          "metadata": {
            "tags": []
          },
          "execution_count": 9
        }
      ]
    },
    {
      "cell_type": "code",
      "metadata": {
        "id": "k9jWJTe-ZnQh",
        "colab": {
          "base_uri": "https://localhost:8080/",
          "height": 223
        },
        "outputId": "3c1241d9-6031-428d-8a4d-370b40cb88ae"
      },
      "source": [
        "#Preprocessing of content before passing it to X\n",
        "nltk.download('wordnet')\n",
        "\n",
        "lemmatizer = WordNetLemmatizer()\n",
        "\n",
        "w_tokenizer = nltk.tokenize.WhitespaceTokenizer()\n",
        "\n",
        "def lemmatize_text(cleaned):\n",
        "    return [lemmatizer.lemmatize(w) for w in w_tokenizer.tokenize(cleaned)]\n",
        "\n",
        "\n",
        "df['text_lemmatized'] = df.cleaned.apply(lemmatize_text)\n",
        "\n",
        "sc = [[' '.join(i)] for i in df['text_lemmatized']]\n",
        "lis = []\n",
        "for i in sc:\n",
        "    abc = i[0]\n",
        "    lis.append(abc)\n",
        "\n",
        "df3 = DataFrame (lis,columns=['texts'])\n",
        "\n",
        "result = pd.concat([df, df3], axis=1, sort=False)\n",
        "\n",
        "result = result.drop(['text_lemmatized'], axis=1)\n",
        "result.head()"
      ],
      "execution_count": null,
      "outputs": [
        {
          "output_type": "stream",
          "text": [
            "[nltk_data] Downloading package wordnet to /root/nltk_data...\n",
            "[nltk_data]   Unzipping corpora/wordnet.zip.\n"
          ],
          "name": "stdout"
        },
        {
          "output_type": "execute_result",
          "data": {
            "text/html": [
              "<div>\n",
              "<style scoped>\n",
              "    .dataframe tbody tr th:only-of-type {\n",
              "        vertical-align: middle;\n",
              "    }\n",
              "\n",
              "    .dataframe tbody tr th {\n",
              "        vertical-align: top;\n",
              "    }\n",
              "\n",
              "    .dataframe thead th {\n",
              "        text-align: right;\n",
              "    }\n",
              "</style>\n",
              "<table border=\"1\" class=\"dataframe\">\n",
              "  <thead>\n",
              "    <tr style=\"text-align: right;\">\n",
              "      <th></th>\n",
              "      <th>target</th>\n",
              "      <th>cleaned</th>\n",
              "      <th>texts</th>\n",
              "    </tr>\n",
              "  </thead>\n",
              "  <tbody>\n",
              "    <tr>\n",
              "      <th>0</th>\n",
              "      <td>12</td>\n",
              "      <td>know listenin bad habit earlier started freaki...</td>\n",
              "      <td>know listenin bad habit earlier started freaki...</td>\n",
              "    </tr>\n",
              "    <tr>\n",
              "      <th>1</th>\n",
              "      <td>0</td>\n",
              "      <td>Layin n bed headache ughhhh waitin call</td>\n",
              "      <td>Layin n bed headache ughhhh waitin call</td>\n",
              "    </tr>\n",
              "    <tr>\n",
              "      <th>2</th>\n",
              "      <td>0</td>\n",
              "      <td>Funeral ceremony gloomy friday</td>\n",
              "      <td>Funeral ceremony gloomy friday</td>\n",
              "    </tr>\n",
              "    <tr>\n",
              "      <th>3</th>\n",
              "      <td>1</td>\n",
              "      <td>wants hang friends SOON</td>\n",
              "      <td>want hang friend SOON</td>\n",
              "    </tr>\n",
              "    <tr>\n",
              "      <th>4</th>\n",
              "      <td>2</td>\n",
              "      <td>want trade someone Houston tickets one will</td>\n",
              "      <td>want trade someone Houston ticket one will</td>\n",
              "    </tr>\n",
              "  </tbody>\n",
              "</table>\n",
              "</div>"
            ],
            "text/plain": [
              "   target  ...                                              texts\n",
              "0      12  ...  know listenin bad habit earlier started freaki...\n",
              "1       0  ...            Layin n bed headache ughhhh waitin call\n",
              "2       0  ...                     Funeral ceremony gloomy friday\n",
              "3       1  ...                              want hang friend SOON\n",
              "4       2  ...         want trade someone Houston ticket one will\n",
              "\n",
              "[5 rows x 3 columns]"
            ]
          },
          "metadata": {
            "tags": []
          },
          "execution_count": 10
        }
      ]
    },
    {
      "cell_type": "code",
      "metadata": {
        "id": "3f6_qJC4bxRf",
        "colab": {
          "base_uri": "https://localhost:8080/",
          "height": 191
        },
        "outputId": "d5be9093-6ec0-451a-b028-c6dcefb7ad60"
      },
      "source": [
        "result.drop(result[result['target'] == 12].index, inplace = True)\n",
        "result.drop(result[result['target'] == 11].index, inplace = True)\n",
        "result.head()"
      ],
      "execution_count": null,
      "outputs": [
        {
          "output_type": "execute_result",
          "data": {
            "text/html": [
              "<div>\n",
              "<style scoped>\n",
              "    .dataframe tbody tr th:only-of-type {\n",
              "        vertical-align: middle;\n",
              "    }\n",
              "\n",
              "    .dataframe tbody tr th {\n",
              "        vertical-align: top;\n",
              "    }\n",
              "\n",
              "    .dataframe thead th {\n",
              "        text-align: right;\n",
              "    }\n",
              "</style>\n",
              "<table border=\"1\" class=\"dataframe\">\n",
              "  <thead>\n",
              "    <tr style=\"text-align: right;\">\n",
              "      <th></th>\n",
              "      <th>target</th>\n",
              "      <th>cleaned</th>\n",
              "      <th>texts</th>\n",
              "    </tr>\n",
              "  </thead>\n",
              "  <tbody>\n",
              "    <tr>\n",
              "      <th>1</th>\n",
              "      <td>0</td>\n",
              "      <td>Layin n bed headache ughhhh waitin call</td>\n",
              "      <td>Layin n bed headache ughhhh waitin call</td>\n",
              "    </tr>\n",
              "    <tr>\n",
              "      <th>2</th>\n",
              "      <td>0</td>\n",
              "      <td>Funeral ceremony gloomy friday</td>\n",
              "      <td>Funeral ceremony gloomy friday</td>\n",
              "    </tr>\n",
              "    <tr>\n",
              "      <th>3</th>\n",
              "      <td>1</td>\n",
              "      <td>wants hang friends SOON</td>\n",
              "      <td>want hang friend SOON</td>\n",
              "    </tr>\n",
              "    <tr>\n",
              "      <th>4</th>\n",
              "      <td>2</td>\n",
              "      <td>want trade someone Houston tickets one will</td>\n",
              "      <td>want trade someone Houston ticket one will</td>\n",
              "    </tr>\n",
              "    <tr>\n",
              "      <th>5</th>\n",
              "      <td>3</td>\n",
              "      <td>Re pinging go prom BC bf like friends</td>\n",
              "      <td>Re pinging go prom BC bf like friend</td>\n",
              "    </tr>\n",
              "  </tbody>\n",
              "</table>\n",
              "</div>"
            ],
            "text/plain": [
              "   target  ...                                       texts\n",
              "1       0  ...     Layin n bed headache ughhhh waitin call\n",
              "2       0  ...              Funeral ceremony gloomy friday\n",
              "3       1  ...                       want hang friend SOON\n",
              "4       2  ...  want trade someone Houston ticket one will\n",
              "5       3  ...        Re pinging go prom BC bf like friend\n",
              "\n",
              "[5 rows x 3 columns]"
            ]
          },
          "metadata": {
            "tags": []
          },
          "execution_count": 11
        }
      ]
    },
    {
      "cell_type": "code",
      "metadata": {
        "id": "SPwpGMFHZoK6"
      },
      "source": [
        "X = result[\"texts\"]\n",
        "Y = result[\"target\"]"
      ],
      "execution_count": null,
      "outputs": []
    },
    {
      "cell_type": "code",
      "metadata": {
        "id": "kaa9scl54hfs",
        "colab": {
          "base_uri": "https://localhost:8080/"
        },
        "outputId": "290ce8af-d00a-44c6-d154-2f5190949de3"
      },
      "source": [
        "# some configuration\n",
        "MAX_SEQUENCE_LENGTH = 20\n",
        "MAX_VOCAB_SIZE = 20000\n",
        "EMBEDDING_DIM = 100\n",
        "BATCH_SIZE = 128\n",
        "EPOCHS = 100\n",
        "\n",
        "# load in pre-trained word vectors\n",
        "print('Loading word vectors...')\n",
        "word2vec = {}\n",
        "with open(os.path.join('/content/drive/My Drive/NLP/glove.6B.%sd.txt' % EMBEDDING_DIM),encoding='utf-8') as f:\n",
        "  # is just a space-separated text file in the format:\n",
        "  # word vec[0] vec[1] vec[2] ...\n",
        "  for line in f:\n",
        "    values = line.split()\n",
        "    word = values[0]\n",
        "    vec = np.asarray(values[1:], dtype='float32')\n",
        "    word2vec[word] = vec\n",
        "print('Found %s word vectors.' % len(word2vec))\n",
        "\n",
        "# convert the sentences (strings) into integers\n",
        "tokenizer = Tokenizer(num_words=MAX_VOCAB_SIZE)\n",
        "tokenizer.fit_on_texts(X)\n",
        "sequences = tokenizer.texts_to_sequences(X)\n",
        "\n",
        "word2idx = tokenizer.word_index\n",
        "print('Found %s unique tokens.' % len(word2idx))\n",
        "\n",
        "\n",
        "# pad sequences so that we get a N x T matrix\n",
        "data = pad_sequences(sequences, maxlen=MAX_SEQUENCE_LENGTH)\n",
        "print('Shape of data tensor:', data.shape)\n",
        "\n",
        "Xtrain, Xtest, Ytrain, Ytest = train_test_split(data,Y, test_size = 0.35)\n",
        "\n",
        "Yt = np_utils.to_categorical(Ytrain)"
      ],
      "execution_count": null,
      "outputs": [
        {
          "output_type": "stream",
          "text": [
            "Loading word vectors...\n",
            "Found 400000 word vectors.\n",
            "Found 28651 unique tokens.\n",
            "Shape of data tensor: (39063, 20)\n"
          ],
          "name": "stdout"
        }
      ]
    },
    {
      "cell_type": "code",
      "metadata": {
        "id": "I1SbdQQ4X9Qb",
        "colab": {
          "base_uri": "https://localhost:8080/"
        },
        "outputId": "f78c9158-3dde-46b4-8386-79f71e7426f2"
      },
      "source": [
        "print('Filling pre-trained embeddings...')\n",
        "num_words = min(MAX_VOCAB_SIZE, len(word2idx) + 1)\n",
        "embedding_matrix = np.zeros((num_words, EMBEDDING_DIM))\n",
        "for word, i in word2idx.items():\n",
        "  if i < MAX_VOCAB_SIZE:\n",
        "    embedding_vector = word2vec.get(word)\n",
        "    if embedding_vector is not None:\n",
        "      # words not found in embedding index will be all zeros.\n",
        "      embedding_matrix[i] = embedding_vector\n",
        "      \n",
        "embedding_layer = Embedding(\n",
        "  num_words,\n",
        "  EMBEDDING_DIM,\n",
        "  weights=[embedding_matrix],\n",
        "  input_length=MAX_SEQUENCE_LENGTH,\n",
        "  trainable=False\n",
        ")\n",
        "\n",
        "print('Building model...')\n",
        "\n",
        "# create an LSTM network with a single LSTM\n",
        "input_ = Input(shape=(MAX_SEQUENCE_LENGTH,))\n",
        "x = embedding_layer(input_)\n",
        "x = LSTM(64, return_sequences=True)(x)\n",
        "x = Dropout(0.2)(x)\n",
        "x = LSTM(48, return_sequences=True)(x)\n",
        "x = Dropout(0.2)(x)\n",
        "x = LSTM(24, return_sequences=True)(x)\n",
        "x = Dropout(0.2)(x)\n",
        "x = GlobalMaxPool1D()(x)\n",
        "output = Dense(11, activation=\"softmax\")(x)\n",
        "\n",
        "model = Model(input_, output)\n",
        "model.compile(\n",
        "  loss='categorical_crossentropy',\n",
        "  optimizer='adam',\n",
        "  metrics=['accuracy'],\n",
        ")\n",
        "\n",
        "model.summary()"
      ],
      "execution_count": null,
      "outputs": [
        {
          "output_type": "stream",
          "text": [
            "Filling pre-trained embeddings...\n",
            "Building model...\n",
            "Model: \"functional_1\"\n",
            "_________________________________________________________________\n",
            "Layer (type)                 Output Shape              Param #   \n",
            "=================================================================\n",
            "input_1 (InputLayer)         [(None, 20)]              0         \n",
            "_________________________________________________________________\n",
            "embedding (Embedding)        (None, 20, 100)           2000000   \n",
            "_________________________________________________________________\n",
            "lstm (LSTM)                  (None, 20, 64)            42240     \n",
            "_________________________________________________________________\n",
            "dropout (Dropout)            (None, 20, 64)            0         \n",
            "_________________________________________________________________\n",
            "lstm_1 (LSTM)                (None, 20, 48)            21696     \n",
            "_________________________________________________________________\n",
            "dropout_1 (Dropout)          (None, 20, 48)            0         \n",
            "_________________________________________________________________\n",
            "lstm_2 (LSTM)                (None, 20, 24)            7008      \n",
            "_________________________________________________________________\n",
            "dropout_2 (Dropout)          (None, 20, 24)            0         \n",
            "_________________________________________________________________\n",
            "global_max_pooling1d (Global (None, 24)                0         \n",
            "_________________________________________________________________\n",
            "dense (Dense)                (None, 11)                275       \n",
            "=================================================================\n",
            "Total params: 2,071,219\n",
            "Trainable params: 71,219\n",
            "Non-trainable params: 2,000,000\n",
            "_________________________________________________________________\n"
          ],
          "name": "stdout"
        }
      ]
    },
    {
      "cell_type": "code",
      "metadata": {
        "id": "hv-L2mJC5Gwx",
        "colab": {
          "base_uri": "https://localhost:8080/",
          "height": 1000
        },
        "outputId": "886bac14-e9a5-4154-8a55-37eadaafcc3c"
      },
      "source": [
        "print('Training model...')\n",
        "r = model.fit(\n",
        "  Xtrain,\n",
        "  Yt,\n",
        "  batch_size=BATCH_SIZE,\n",
        "  epochs=15,\n",
        "  validation_split=0.3\n",
        ")\n",
        "\n",
        "\n",
        "plt.plot(r.history['loss'], label='loss')\n",
        "plt.plot(r.history['val_loss'], label='val_loss')\n",
        "plt.legend()\n",
        "plt.show()\n",
        "\n",
        "# accuracies\n",
        "plt.plot(r.history['accuracy'], label='acc')\n",
        "plt.plot(r.history['val_accuracy'], label='val_acc')\n",
        "plt.legend()\n",
        "plt.show()"
      ],
      "execution_count": null,
      "outputs": [
        {
          "output_type": "stream",
          "text": [
            "Training model...\n",
            "Epoch 1/15\n",
            "139/139 [==============================] - 2s 17ms/step - loss: 2.1066 - accuracy: 0.2490 - val_loss: 2.0399 - val_accuracy: 0.2746\n",
            "Epoch 2/15\n",
            "139/139 [==============================] - 1s 10ms/step - loss: 1.9988 - accuracy: 0.2893 - val_loss: 1.9849 - val_accuracy: 0.3056\n",
            "Epoch 3/15\n",
            "139/139 [==============================] - 1s 11ms/step - loss: 1.9488 - accuracy: 0.3136 - val_loss: 1.9412 - val_accuracy: 0.3297\n",
            "Epoch 4/15\n",
            "139/139 [==============================] - 1s 10ms/step - loss: 1.9097 - accuracy: 0.3321 - val_loss: 1.9176 - val_accuracy: 0.3404\n",
            "Epoch 5/15\n",
            "139/139 [==============================] - 1s 11ms/step - loss: 1.8806 - accuracy: 0.3450 - val_loss: 1.8959 - val_accuracy: 0.3436\n",
            "Epoch 6/15\n",
            "139/139 [==============================] - 1s 11ms/step - loss: 1.8629 - accuracy: 0.3491 - val_loss: 1.8923 - val_accuracy: 0.3429\n",
            "Epoch 7/15\n",
            "139/139 [==============================] - 1s 10ms/step - loss: 1.8429 - accuracy: 0.3584 - val_loss: 1.8835 - val_accuracy: 0.3378\n",
            "Epoch 8/15\n",
            "139/139 [==============================] - 1s 10ms/step - loss: 1.8310 - accuracy: 0.3620 - val_loss: 1.8759 - val_accuracy: 0.3455\n",
            "Epoch 9/15\n",
            "139/139 [==============================] - 1s 10ms/step - loss: 1.8162 - accuracy: 0.3654 - val_loss: 1.8667 - val_accuracy: 0.3494\n",
            "Epoch 10/15\n",
            "139/139 [==============================] - 1s 11ms/step - loss: 1.8024 - accuracy: 0.3713 - val_loss: 1.8824 - val_accuracy: 0.3459\n",
            "Epoch 11/15\n",
            "139/139 [==============================] - 1s 10ms/step - loss: 1.7864 - accuracy: 0.3793 - val_loss: 1.8600 - val_accuracy: 0.3511\n",
            "Epoch 12/15\n",
            "139/139 [==============================] - 1s 10ms/step - loss: 1.7702 - accuracy: 0.3851 - val_loss: 1.8605 - val_accuracy: 0.3488\n",
            "Epoch 13/15\n",
            "139/139 [==============================] - 1s 11ms/step - loss: 1.7556 - accuracy: 0.3879 - val_loss: 1.8643 - val_accuracy: 0.3515\n",
            "Epoch 14/15\n",
            "139/139 [==============================] - 1s 10ms/step - loss: 1.7395 - accuracy: 0.3940 - val_loss: 1.8603 - val_accuracy: 0.3472\n",
            "Epoch 15/15\n",
            "139/139 [==============================] - 1s 10ms/step - loss: 1.7213 - accuracy: 0.4009 - val_loss: 1.8817 - val_accuracy: 0.3421\n"
          ],
          "name": "stdout"
        },
        {
          "output_type": "display_data",
          "data": {
            "image/png": "[encoded data removed]",
            "text/plain": [
              "<Figure size 432x288 with 1 Axes>"
            ]
          },
          "metadata": {
            "tags": [],
            "needs_background": "light"
          }
        },
        {
          "output_type": "display_data",
          "data": {
            "image/png": "[encoded data removed]",
            "text/plain": [
              "<Figure size 432x288 with 1 Axes>"
            ]
          },
          "metadata": {
            "tags": [],
            "needs_background": "light"
          }
        }
      ]
    },
    {
      "cell_type": "code",
      "metadata": {
        "id": "lFF7VqwqYEYE",
        "colab": {
          "base_uri": "https://localhost:8080/"
        },
        "outputId": "553c1107-371c-44dc-8780-854d82a89b09"
      },
      "source": [
        "p = model.predict(Xtest)\n",
        "print(p)\n",
        "p = np.argmax(p, axis=1)\n",
        "print(p)\n",
        "\n",
        "cnfv=confusion_matrix(Ytest,p)\n",
        "print(cnfv)\n",
        "\n",
        "print(classification_report(Ytest, p))"
      ],
      "execution_count": null,
      "outputs": [
        {
          "output_type": "stream",
          "text": [
            "[[0.10476441 0.02308047 0.28092313 ... 0.04543789 0.00439782 0.03566249]\n",
            " [0.12528697 0.02338702 0.31237713 ... 0.06086471 0.00847049 0.04449126]\n",
            " [0.04315357 0.02459279 0.1821624  ... 0.33489707 0.00291872 0.07566664]\n",
            " ...\n",
            " [0.3941279  0.00679368 0.06184945 ... 0.01352695 0.00409527 0.01767237]\n",
            " [0.08065096 0.02703558 0.43777502 ... 0.08087239 0.00861767 0.0415142 ]\n",
            " [0.24835283 0.01093273 0.07563812 ... 0.01666507 0.00852737 0.02850085]]\n",
            "[3 2 8 ... 0 2 3]\n",
            "[[ 155    0  337 1148    2   35    0   62   75    0    0]\n",
            " [   5    0  103   91    0   12    0    4   33    0    0]\n",
            " [  34    0 1671  983    2   89    0   32  254    0    0]\n",
            " [  78    0  793 1794    1   72    0   80  134    0    1]\n",
            " [  14    0  284  294    1   47    0   16  100    0    0]\n",
            " [  28    0  300  279    1  482    0    7  285    0    0]\n",
            " [   8    0  231  219    1   36    0   10  129    0    0]\n",
            " [  11    0   66  282    0    2    0   71   14    0    0]\n",
            " [  18    0  608  449    4  153    2   18  528    0    0]\n",
            " [   2    0   13   40    0    0    0    4    1    0    0]\n",
            " [  13    0  203  194    0   32    0    5   87    0    1]]\n",
            "              precision    recall  f1-score   support\n",
            "\n",
            "           0       0.42      0.09      0.14      1814\n",
            "           1       0.00      0.00      0.00       248\n",
            "           2       0.36      0.55      0.44      3065\n",
            "           3       0.31      0.61      0.41      2953\n",
            "           4       0.08      0.00      0.00       756\n",
            "           5       0.50      0.35      0.41      1382\n",
            "           6       0.00      0.00      0.00       634\n",
            "           7       0.23      0.16      0.19       446\n",
            "           8       0.32      0.30      0.31      1780\n",
            "           9       0.00      0.00      0.00        60\n",
            "          10       0.50      0.00      0.00       535\n",
            "\n",
            "    accuracy                           0.34     13673\n",
            "   macro avg       0.25      0.19      0.17     13673\n",
            "weighted avg       0.33      0.34      0.29     13673\n",
            "\n"
          ],
          "name": "stdout"
        },
        {
          "output_type": "stream",
          "text": [
            "/usr/local/lib/python3.6/dist-packages/sklearn/metrics/_classification.py:1272: UndefinedMetricWarning: Precision and F-score are ill-defined and being set to 0.0 in labels with no predicted samples. Use `zero_division` parameter to control this behavior.\n",
            "  _warn_prf(average, modifier, msg_start, len(result))\n"
          ],
          "name": "stderr"
        }
      ]
    }
  ]
}