{
  "nbformat": 4,
  "nbformat_minor": 0,
  "metadata": {
    "colab": {
      "name": "twitter_tsvd.ipynb",
      "provenance": [],
      "include_colab_link": true
    },
    "kernelspec": {
      "name": "python3",
      "display_name": "Python 3"
    },
    "accelerator": "GPU"
  },
  "cells": [
    {
      "cell_type": "markdown",
      "metadata": {
        "id": "view-in-github",
        "colab_type": "text"
      },
      "source": [
        "<a href=\"https://colab.research.google.com/github/sauravsingla/Multi-Class-Sentiment-Classification-/blob/main/twitter_tsvd.ipynb\" target=\"_parent\"><img src=\"https://colab.research.google.com/assets/colab-badge.svg\" alt=\"Open In Colab\"/></a>"
      ]
    },
    {
      "cell_type": "code",
      "metadata": {
        "id": "yKjfe6ZbLFQ6",
        "colab": {
          "base_uri": "https://localhost:8080/"
        },
        "outputId": "4c5b83ec-dc0c-4db9-fbaa-8b0999d6e060"
      },
      "source": [
        " from google.colab import drive\n",
        "drive.mount('/content/drive')"
      ],
      "execution_count": null,
      "outputs": [
        {
          "output_type": "stream",
          "text": [
            "Drive already mounted at /content/drive; to attempt to forcibly remount, call drive.mount(\"/content/drive\", force_remount=True).\n"
          ],
          "name": "stdout"
        }
      ]
    },
    {
      "cell_type": "code",
      "metadata": {
        "id": "gC9u-29uLk4k"
      },
      "source": [
        "import pandas as pd\n",
        "from tensorflow.keras.models import Model\n",
        "from tensorflow.keras.layers import Dense, Input, Flatten\n",
        "from tensorflow.keras.layers import Bidirectional, GRU, GlobalMaxPool1D, Dropout\n",
        "from tensorflow.keras.preprocessing.text import Tokenizer\n",
        "import time\n",
        "import nltk\n",
        "from sklearn.metrics.pairwise import cosine_similarity\n",
        "from sklearn.decomposition import KernelPCA\n",
        "from pandas import DataFrame\n",
        "import re\n",
        "import numpy as np"
      ],
      "execution_count": null,
      "outputs": []
    },
    {
      "cell_type": "code",
      "metadata": {
        "id": "m-mVjar-LmM-",
        "colab": {
          "base_uri": "https://localhost:8080/"
        },
        "outputId": "4e628ce5-1cea-4f80-dcb6-8c6d54e244b1"
      },
      "source": [
        "df = pd.read_csv(\"/content/drive/My Drive/NLP/text_emotion.csv\")\n",
        "df = df.drop([\"tweet_id\",\"author\"],axis = 1)\n",
        "print(df.head())"
      ],
      "execution_count": null,
      "outputs": [
        {
          "output_type": "stream",
          "text": [
            "    sentiment                                            content\n",
            "0       empty  @tiffanylue i know  i was listenin to bad habi...\n",
            "1     sadness  Layin n bed with a headache  ughhhh...waitin o...\n",
            "2     sadness                Funeral ceremony...gloomy friday...\n",
            "3  enthusiasm               wants to hang out with friends SOON!\n",
            "4     neutral  @dannycastillo We want to trade with someone w...\n"
          ],
          "name": "stdout"
        }
      ]
    },
    {
      "cell_type": "code",
      "metadata": {
        "id": "5U46SY45L0KS",
        "colab": {
          "base_uri": "https://localhost:8080/"
        },
        "outputId": "63c7b3cb-0cf8-4be5-a3bd-1dc90deb64ec"
      },
      "source": [
        "df.drop(df[df['sentiment'] == 'empty'].index, inplace = True)\n",
        "df.drop(df[df['sentiment'] == 'enthusiasm'].index, inplace = True)\n",
        "df['target'] = df['sentiment'].map({'sadness':0, 'boredom':1,'neutral':2,'worry':3,'surprise':4,'love':5,'fun':6,'hate':7,'happiness':8,'anger':9,'relief':10})\n",
        "df = df.drop([\"sentiment\"],axis=1)\n",
        "print(df.head())"
      ],
      "execution_count": null,
      "outputs": [
        {
          "output_type": "stream",
          "text": [
            "                                             content  target\n",
            "1  Layin n bed with a headache  ughhhh...waitin o...       0\n",
            "2                Funeral ceremony...gloomy friday...       0\n",
            "4  @dannycastillo We want to trade with someone w...       2\n",
            "5  Re-pinging @ghostridah14: why didn't you go to...       3\n",
            "6  I should be sleep, but im not! thinking about ...       0\n"
          ],
          "name": "stdout"
        }
      ]
    },
    {
      "cell_type": "code",
      "metadata": {
        "id": "Zngs6aVANSwu"
      },
      "source": [
        "def clean_text(text):\n",
        "    text = text.lower()\n",
        "    text = re.sub(r\"i'm\", \"i am\", text)\n",
        "    text = re.sub(r\"he's\", \"he is\", text)\n",
        "    text = re.sub(r\"it's\", \"it is\", text)\n",
        "    text = re.sub(r\"she's\", \"she is\", text)\n",
        "    text = re.sub(r\"that's\", \"that is\", text)\n",
        "    text = re.sub(r\"what's\", \"what is\", text)\n",
        "    text = re.sub(r\"where's\", \"where is\", text)\n",
        "    text = re.sub(r\"\\'ll\", \" will\", text)\n",
        "    text = re.sub(r\"\\'ve\", \" have\", text)\n",
        "    text = re.sub(r\"\\'re\", \" are\", text)\n",
        "    text = re.sub(r\"\\'d\", \" would\", text)\n",
        "    text = re.sub(r\"won't\", \"will not\", text)\n",
        "    text = re.sub(r\"don't\", \"do not\", text)\n",
        "    text = re.sub(r\"can't\", \"cannot\", text)\n",
        "    text = re.sub(r\"didn't\", \"did not\", text)\n",
        "    return text"
      ],
      "execution_count": null,
      "outputs": []
    },
    {
      "cell_type": "code",
      "metadata": {
        "id": "5FVNyogPVa8p",
        "colab": {
          "base_uri": "https://localhost:8080/",
          "height": 191
        },
        "outputId": "68fb0ae1-7e97-4ee7-da23-018c455592ad"
      },
      "source": [
        "cleaned_text = []\n",
        "for text in df['content']:\n",
        "    cleaned_text.append(clean_text(text))\n",
        "df['clean'] = cleaned_text\n",
        "df.head()"
      ],
      "execution_count": null,
      "outputs": [
        {
          "output_type": "execute_result",
          "data": {
            "text/html": [
              "<div>\n",
              "<style scoped>\n",
              "    .dataframe tbody tr th:only-of-type {\n",
              "        vertical-align: middle;\n",
              "    }\n",
              "\n",
              "    .dataframe tbody tr th {\n",
              "        vertical-align: top;\n",
              "    }\n",
              "\n",
              "    .dataframe thead th {\n",
              "        text-align: right;\n",
              "    }\n",
              "</style>\n",
              "<table border=\"1\" class=\"dataframe\">\n",
              "  <thead>\n",
              "    <tr style=\"text-align: right;\">\n",
              "      <th></th>\n",
              "      <th>content</th>\n",
              "      <th>target</th>\n",
              "      <th>clean</th>\n",
              "    </tr>\n",
              "  </thead>\n",
              "  <tbody>\n",
              "    <tr>\n",
              "      <th>1</th>\n",
              "      <td>Layin n bed with a headache  ughhhh...waitin o...</td>\n",
              "      <td>0</td>\n",
              "      <td>layin n bed with a headache  ughhhh...waitin o...</td>\n",
              "    </tr>\n",
              "    <tr>\n",
              "      <th>2</th>\n",
              "      <td>Funeral ceremony...gloomy friday...</td>\n",
              "      <td>0</td>\n",
              "      <td>funeral ceremony...gloomy friday...</td>\n",
              "    </tr>\n",
              "    <tr>\n",
              "      <th>4</th>\n",
              "      <td>@dannycastillo We want to trade with someone w...</td>\n",
              "      <td>2</td>\n",
              "      <td>@dannycastillo we want to trade with someone w...</td>\n",
              "    </tr>\n",
              "    <tr>\n",
              "      <th>5</th>\n",
              "      <td>Re-pinging @ghostridah14: why didn't you go to...</td>\n",
              "      <td>3</td>\n",
              "      <td>re-pinging @ghostridah14: why did not you go t...</td>\n",
              "    </tr>\n",
              "    <tr>\n",
              "      <th>6</th>\n",
              "      <td>I should be sleep, but im not! thinking about ...</td>\n",
              "      <td>0</td>\n",
              "      <td>i should be sleep, but im not! thinking about ...</td>\n",
              "    </tr>\n",
              "  </tbody>\n",
              "</table>\n",
              "</div>"
            ],
            "text/plain": [
              "                                             content  ...                                              clean\n",
              "1  Layin n bed with a headache  ughhhh...waitin o...  ...  layin n bed with a headache  ughhhh...waitin o...\n",
              "2                Funeral ceremony...gloomy friday...  ...                funeral ceremony...gloomy friday...\n",
              "4  @dannycastillo We want to trade with someone w...  ...  @dannycastillo we want to trade with someone w...\n",
              "5  Re-pinging @ghostridah14: why didn't you go to...  ...  re-pinging @ghostridah14: why did not you go t...\n",
              "6  I should be sleep, but im not! thinking about ...  ...  i should be sleep, but im not! thinking about ...\n",
              "\n",
              "[5 rows x 3 columns]"
            ]
          },
          "metadata": {
            "tags": []
          },
          "execution_count": 63
        }
      ]
    },
    {
      "cell_type": "code",
      "metadata": {
        "id": "CapYh7S_L3wM"
      },
      "source": [
        "tw = []\n",
        "for j in df['clean']:\n",
        "  tweets = ' '.join(re.sub(\"(@[A-Za-z0-9]+)|([^0-9A-Za-z \\t])|(\\w+:\\/\\/\\S+)\", \" \", str(j)).split())\n",
        "  tw.append(tweets)"
      ],
      "execution_count": null,
      "outputs": []
    },
    {
      "cell_type": "code",
      "metadata": {
        "id": "bBiIlry8ddZv",
        "colab": {
          "base_uri": "https://localhost:8080/",
          "height": 191
        },
        "outputId": "268fcac9-b88b-4fdf-d671-7b452244f5f2"
      },
      "source": [
        "df['clean'] = tw\n",
        "df.head()"
      ],
      "execution_count": null,
      "outputs": [
        {
          "output_type": "execute_result",
          "data": {
            "text/html": [
              "<div>\n",
              "<style scoped>\n",
              "    .dataframe tbody tr th:only-of-type {\n",
              "        vertical-align: middle;\n",
              "    }\n",
              "\n",
              "    .dataframe tbody tr th {\n",
              "        vertical-align: top;\n",
              "    }\n",
              "\n",
              "    .dataframe thead th {\n",
              "        text-align: right;\n",
              "    }\n",
              "</style>\n",
              "<table border=\"1\" class=\"dataframe\">\n",
              "  <thead>\n",
              "    <tr style=\"text-align: right;\">\n",
              "      <th></th>\n",
              "      <th>content</th>\n",
              "      <th>target</th>\n",
              "      <th>clean</th>\n",
              "    </tr>\n",
              "  </thead>\n",
              "  <tbody>\n",
              "    <tr>\n",
              "      <th>1</th>\n",
              "      <td>Layin n bed with a headache  ughhhh...waitin o...</td>\n",
              "      <td>0</td>\n",
              "      <td>layin n bed with a headache ughhhh waitin on y...</td>\n",
              "    </tr>\n",
              "    <tr>\n",
              "      <th>2</th>\n",
              "      <td>Funeral ceremony...gloomy friday...</td>\n",
              "      <td>0</td>\n",
              "      <td>funeral ceremony gloomy friday</td>\n",
              "    </tr>\n",
              "    <tr>\n",
              "      <th>4</th>\n",
              "      <td>@dannycastillo We want to trade with someone w...</td>\n",
              "      <td>2</td>\n",
              "      <td>we want to trade with someone who has houston ...</td>\n",
              "    </tr>\n",
              "    <tr>\n",
              "      <th>5</th>\n",
              "      <td>Re-pinging @ghostridah14: why didn't you go to...</td>\n",
              "      <td>3</td>\n",
              "      <td>re pinging why did not you go to prom bc my bf...</td>\n",
              "    </tr>\n",
              "    <tr>\n",
              "      <th>6</th>\n",
              "      <td>I should be sleep, but im not! thinking about ...</td>\n",
              "      <td>0</td>\n",
              "      <td>i should be sleep but im not thinking about an...</td>\n",
              "    </tr>\n",
              "  </tbody>\n",
              "</table>\n",
              "</div>"
            ],
            "text/plain": [
              "                                             content  ...                                              clean\n",
              "1  Layin n bed with a headache  ughhhh...waitin o...  ...  layin n bed with a headache ughhhh waitin on y...\n",
              "2                Funeral ceremony...gloomy friday...  ...                     funeral ceremony gloomy friday\n",
              "4  @dannycastillo We want to trade with someone w...  ...  we want to trade with someone who has houston ...\n",
              "5  Re-pinging @ghostridah14: why didn't you go to...  ...  re pinging why did not you go to prom bc my bf...\n",
              "6  I should be sleep, but im not! thinking about ...  ...  i should be sleep but im not thinking about an...\n",
              "\n",
              "[5 rows x 3 columns]"
            ]
          },
          "metadata": {
            "tags": []
          },
          "execution_count": 65
        }
      ]
    },
    {
      "cell_type": "code",
      "metadata": {
        "id": "ol5n3XuWhVoS",
        "colab": {
          "base_uri": "https://localhost:8080/"
        },
        "outputId": "a1fbc64a-5799-489d-f252-67424f0641b4"
      },
      "source": [
        "import nltk\n",
        "nltk.download('stopwords')\n",
        "nltk.download('wordnet')"
      ],
      "execution_count": null,
      "outputs": [
        {
          "output_type": "stream",
          "text": [
            "[nltk_data] Downloading package stopwords to /root/nltk_data...\n",
            "[nltk_data]   Package stopwords is already up-to-date!\n",
            "[nltk_data] Downloading package wordnet to /root/nltk_data...\n",
            "[nltk_data]   Package wordnet is already up-to-date!\n"
          ],
          "name": "stdout"
        },
        {
          "output_type": "execute_result",
          "data": {
            "text/plain": [
              "True"
            ]
          },
          "metadata": {
            "tags": []
          },
          "execution_count": 66
        }
      ]
    },
    {
      "cell_type": "code",
      "metadata": {
        "id": "S3ipGJSuMcnI",
        "colab": {
          "base_uri": "https://localhost:8080/",
          "height": 391
        },
        "outputId": "61fdd5a2-b8a2-4df3-8925-28b568192fd2"
      },
      "source": [
        "from nltk.corpus import stopwords\n",
        "stopwords = set(stopwords.words('english'))\n",
        "output = []\n",
        "for sentence in df[\"clean\"]:\n",
        "    temp_list = []\n",
        "    for word in sentence.split():\n",
        "      if len(word) > 2 not in stopwords:\n",
        "        temp_list.append(word)\n",
        "    output.append(' '.join(temp_list))\n",
        "    \n",
        "df[\"texts\"] = output\n",
        "df.drop(['content','clean'], axis = 1)"
      ],
      "execution_count": null,
      "outputs": [
        {
          "output_type": "execute_result",
          "data": {
            "text/html": [
              "<div>\n",
              "<style scoped>\n",
              "    .dataframe tbody tr th:only-of-type {\n",
              "        vertical-align: middle;\n",
              "    }\n",
              "\n",
              "    .dataframe tbody tr th {\n",
              "        vertical-align: top;\n",
              "    }\n",
              "\n",
              "    .dataframe thead th {\n",
              "        text-align: right;\n",
              "    }\n",
              "</style>\n",
              "<table border=\"1\" class=\"dataframe\">\n",
              "  <thead>\n",
              "    <tr style=\"text-align: right;\">\n",
              "      <th></th>\n",
              "      <th>target</th>\n",
              "      <th>texts</th>\n",
              "    </tr>\n",
              "  </thead>\n",
              "  <tbody>\n",
              "    <tr>\n",
              "      <th>1</th>\n",
              "      <td>0</td>\n",
              "      <td>layin bed with headache ughhhh waitin your call</td>\n",
              "    </tr>\n",
              "    <tr>\n",
              "      <th>2</th>\n",
              "      <td>0</td>\n",
              "      <td>funeral ceremony gloomy friday</td>\n",
              "    </tr>\n",
              "    <tr>\n",
              "      <th>4</th>\n",
              "      <td>2</td>\n",
              "      <td>want trade with someone who has houston ticket...</td>\n",
              "    </tr>\n",
              "    <tr>\n",
              "      <th>5</th>\n",
              "      <td>3</td>\n",
              "      <td>pinging why did not you prom did not like friends</td>\n",
              "    </tr>\n",
              "    <tr>\n",
              "      <th>6</th>\n",
              "      <td>0</td>\n",
              "      <td>should sleep but not thinking about old friend...</td>\n",
              "    </tr>\n",
              "    <tr>\n",
              "      <th>...</th>\n",
              "      <td>...</td>\n",
              "      <td>...</td>\n",
              "    </tr>\n",
              "    <tr>\n",
              "      <th>39995</th>\n",
              "      <td>2</td>\n",
              "      <td></td>\n",
              "    </tr>\n",
              "    <tr>\n",
              "      <th>39996</th>\n",
              "      <td>5</td>\n",
              "      <td>happy mothers day all love</td>\n",
              "    </tr>\n",
              "    <tr>\n",
              "      <th>39997</th>\n",
              "      <td>5</td>\n",
              "      <td>happy mother day all the mommies out there you...</td>\n",
              "    </tr>\n",
              "    <tr>\n",
              "      <th>39998</th>\n",
              "      <td>8</td>\n",
              "      <td>wassup beautiful follow peep out new hit singl...</td>\n",
              "    </tr>\n",
              "    <tr>\n",
              "      <th>39999</th>\n",
              "      <td>5</td>\n",
              "      <td>bullet train from tokyo the and have been visi...</td>\n",
              "    </tr>\n",
              "  </tbody>\n",
              "</table>\n",
              "<p>38414 rows × 2 columns</p>\n",
              "</div>"
            ],
            "text/plain": [
              "       target                                              texts\n",
              "1           0    layin bed with headache ughhhh waitin your call\n",
              "2           0                     funeral ceremony gloomy friday\n",
              "4           2  want trade with someone who has houston ticket...\n",
              "5           3  pinging why did not you prom did not like friends\n",
              "6           0  should sleep but not thinking about old friend...\n",
              "...       ...                                                ...\n",
              "39995       2                                                   \n",
              "39996       5                         happy mothers day all love\n",
              "39997       5  happy mother day all the mommies out there you...\n",
              "39998       8  wassup beautiful follow peep out new hit singl...\n",
              "39999       5  bullet train from tokyo the and have been visi...\n",
              "\n",
              "[38414 rows x 2 columns]"
            ]
          },
          "metadata": {
            "tags": []
          },
          "execution_count": 67
        }
      ]
    },
    {
      "cell_type": "code",
      "metadata": {
        "id": "mYTAc_2wvgjH",
        "colab": {
          "base_uri": "https://localhost:8080/",
          "height": 191
        },
        "outputId": "1feba7b5-76d5-46e7-8018-3f170cebacdf"
      },
      "source": [
        "df = df.drop(['content','clean'], axis =1)\n",
        "df.head()"
      ],
      "execution_count": null,
      "outputs": [
        {
          "output_type": "execute_result",
          "data": {
            "text/html": [
              "<div>\n",
              "<style scoped>\n",
              "    .dataframe tbody tr th:only-of-type {\n",
              "        vertical-align: middle;\n",
              "    }\n",
              "\n",
              "    .dataframe tbody tr th {\n",
              "        vertical-align: top;\n",
              "    }\n",
              "\n",
              "    .dataframe thead th {\n",
              "        text-align: right;\n",
              "    }\n",
              "</style>\n",
              "<table border=\"1\" class=\"dataframe\">\n",
              "  <thead>\n",
              "    <tr style=\"text-align: right;\">\n",
              "      <th></th>\n",
              "      <th>target</th>\n",
              "      <th>texts</th>\n",
              "    </tr>\n",
              "  </thead>\n",
              "  <tbody>\n",
              "    <tr>\n",
              "      <th>1</th>\n",
              "      <td>0</td>\n",
              "      <td>layin bed with headache ughhhh waitin your call</td>\n",
              "    </tr>\n",
              "    <tr>\n",
              "      <th>2</th>\n",
              "      <td>0</td>\n",
              "      <td>funeral ceremony gloomy friday</td>\n",
              "    </tr>\n",
              "    <tr>\n",
              "      <th>4</th>\n",
              "      <td>2</td>\n",
              "      <td>want trade with someone who has houston ticket...</td>\n",
              "    </tr>\n",
              "    <tr>\n",
              "      <th>5</th>\n",
              "      <td>3</td>\n",
              "      <td>pinging why did not you prom did not like friends</td>\n",
              "    </tr>\n",
              "    <tr>\n",
              "      <th>6</th>\n",
              "      <td>0</td>\n",
              "      <td>should sleep but not thinking about old friend...</td>\n",
              "    </tr>\n",
              "  </tbody>\n",
              "</table>\n",
              "</div>"
            ],
            "text/plain": [
              "   target                                              texts\n",
              "1       0    layin bed with headache ughhhh waitin your call\n",
              "2       0                     funeral ceremony gloomy friday\n",
              "4       2  want trade with someone who has houston ticket...\n",
              "5       3  pinging why did not you prom did not like friends\n",
              "6       0  should sleep but not thinking about old friend..."
            ]
          },
          "metadata": {
            "tags": []
          },
          "execution_count": 68
        }
      ]
    },
    {
      "cell_type": "code",
      "metadata": {
        "id": "lzQTzW_BL8cw",
        "colab": {
          "base_uri": "https://localhost:8080/",
          "height": 191
        },
        "outputId": "7041562f-e2d3-470e-b23e-d43fbaa45f87"
      },
      "source": [
        "from nltk.stem import WordNetLemmatizer \n",
        "lemmatizer = WordNetLemmatizer()\n",
        "\n",
        "w_tokenizer = nltk.tokenize.WhitespaceTokenizer()\n",
        "\n",
        "def lemmatize_text(texts):\n",
        "    return [lemmatizer.lemmatize(w) for w in w_tokenizer.tokenize(texts)]\n",
        "\n",
        "\n",
        "df['text_lemmatized'] = df.texts.apply(lemmatize_text)\n",
        "\n",
        "sc = [[' '.join(i)] for i in df['text_lemmatized']]\n",
        "lis = []\n",
        "for i in sc:\n",
        "    abc = i[0]\n",
        "    lis.append(abc)\n",
        "\n",
        "df['lem'] = lis\n",
        "df.head()"
      ],
      "execution_count": null,
      "outputs": [
        {
          "output_type": "execute_result",
          "data": {
            "text/html": [
              "<div>\n",
              "<style scoped>\n",
              "    .dataframe tbody tr th:only-of-type {\n",
              "        vertical-align: middle;\n",
              "    }\n",
              "\n",
              "    .dataframe tbody tr th {\n",
              "        vertical-align: top;\n",
              "    }\n",
              "\n",
              "    .dataframe thead th {\n",
              "        text-align: right;\n",
              "    }\n",
              "</style>\n",
              "<table border=\"1\" class=\"dataframe\">\n",
              "  <thead>\n",
              "    <tr style=\"text-align: right;\">\n",
              "      <th></th>\n",
              "      <th>target</th>\n",
              "      <th>texts</th>\n",
              "      <th>text_lemmatized</th>\n",
              "      <th>lem</th>\n",
              "    </tr>\n",
              "  </thead>\n",
              "  <tbody>\n",
              "    <tr>\n",
              "      <th>1</th>\n",
              "      <td>0</td>\n",
              "      <td>layin bed with headache ughhhh waitin your call</td>\n",
              "      <td>[layin, bed, with, headache, ughhhh, waitin, y...</td>\n",
              "      <td>layin bed with headache ughhhh waitin your call</td>\n",
              "    </tr>\n",
              "    <tr>\n",
              "      <th>2</th>\n",
              "      <td>0</td>\n",
              "      <td>funeral ceremony gloomy friday</td>\n",
              "      <td>[funeral, ceremony, gloomy, friday]</td>\n",
              "      <td>funeral ceremony gloomy friday</td>\n",
              "    </tr>\n",
              "    <tr>\n",
              "      <th>4</th>\n",
              "      <td>2</td>\n",
              "      <td>want trade with someone who has houston ticket...</td>\n",
              "      <td>[want, trade, with, someone, who, ha, houston,...</td>\n",
              "      <td>want trade with someone who ha houston ticket ...</td>\n",
              "    </tr>\n",
              "    <tr>\n",
              "      <th>5</th>\n",
              "      <td>3</td>\n",
              "      <td>pinging why did not you prom did not like friends</td>\n",
              "      <td>[pinging, why, did, not, you, prom, did, not, ...</td>\n",
              "      <td>pinging why did not you prom did not like friend</td>\n",
              "    </tr>\n",
              "    <tr>\n",
              "      <th>6</th>\n",
              "      <td>0</td>\n",
              "      <td>should sleep but not thinking about old friend...</td>\n",
              "      <td>[should, sleep, but, not, thinking, about, old...</td>\n",
              "      <td>should sleep but not thinking about old friend...</td>\n",
              "    </tr>\n",
              "  </tbody>\n",
              "</table>\n",
              "</div>"
            ],
            "text/plain": [
              "   target  ...                                                lem\n",
              "1       0  ...    layin bed with headache ughhhh waitin your call\n",
              "2       0  ...                     funeral ceremony gloomy friday\n",
              "4       2  ...  want trade with someone who ha houston ticket ...\n",
              "5       3  ...   pinging why did not you prom did not like friend\n",
              "6       0  ...  should sleep but not thinking about old friend...\n",
              "\n",
              "[5 rows x 4 columns]"
            ]
          },
          "metadata": {
            "tags": []
          },
          "execution_count": 69
        }
      ]
    },
    {
      "cell_type": "code",
      "metadata": {
        "id": "rfBUiUuwwga_",
        "colab": {
          "base_uri": "https://localhost:8080/",
          "height": 191
        },
        "outputId": "a824c5d0-3870-4aae-d113-6e3c3e6969b1"
      },
      "source": [
        "df = df.drop(['text_lemmatized','texts'], axis =1)\n",
        "df.head()"
      ],
      "execution_count": null,
      "outputs": [
        {
          "output_type": "execute_result",
          "data": {
            "text/html": [
              "<div>\n",
              "<style scoped>\n",
              "    .dataframe tbody tr th:only-of-type {\n",
              "        vertical-align: middle;\n",
              "    }\n",
              "\n",
              "    .dataframe tbody tr th {\n",
              "        vertical-align: top;\n",
              "    }\n",
              "\n",
              "    .dataframe thead th {\n",
              "        text-align: right;\n",
              "    }\n",
              "</style>\n",
              "<table border=\"1\" class=\"dataframe\">\n",
              "  <thead>\n",
              "    <tr style=\"text-align: right;\">\n",
              "      <th></th>\n",
              "      <th>target</th>\n",
              "      <th>lem</th>\n",
              "    </tr>\n",
              "  </thead>\n",
              "  <tbody>\n",
              "    <tr>\n",
              "      <th>1</th>\n",
              "      <td>0</td>\n",
              "      <td>layin bed with headache ughhhh waitin your call</td>\n",
              "    </tr>\n",
              "    <tr>\n",
              "      <th>2</th>\n",
              "      <td>0</td>\n",
              "      <td>funeral ceremony gloomy friday</td>\n",
              "    </tr>\n",
              "    <tr>\n",
              "      <th>4</th>\n",
              "      <td>2</td>\n",
              "      <td>want trade with someone who ha houston ticket ...</td>\n",
              "    </tr>\n",
              "    <tr>\n",
              "      <th>5</th>\n",
              "      <td>3</td>\n",
              "      <td>pinging why did not you prom did not like friend</td>\n",
              "    </tr>\n",
              "    <tr>\n",
              "      <th>6</th>\n",
              "      <td>0</td>\n",
              "      <td>should sleep but not thinking about old friend...</td>\n",
              "    </tr>\n",
              "  </tbody>\n",
              "</table>\n",
              "</div>"
            ],
            "text/plain": [
              "   target                                                lem\n",
              "1       0    layin bed with headache ughhhh waitin your call\n",
              "2       0                     funeral ceremony gloomy friday\n",
              "4       2  want trade with someone who ha houston ticket ...\n",
              "5       3   pinging why did not you prom did not like friend\n",
              "6       0  should sleep but not thinking about old friend..."
            ]
          },
          "metadata": {
            "tags": []
          },
          "execution_count": 70
        }
      ]
    },
    {
      "cell_type": "code",
      "metadata": {
        "id": "KjHwCjCOnz0h",
        "colab": {
          "base_uri": "https://localhost:8080/"
        },
        "outputId": "a56633bb-acd1-41f8-a111-cd01fe73ad9c"
      },
      "source": [
        "from sklearn.model_selection import train_test_split\n",
        "from keras.utils import np_utils\n",
        "X = df[\"lem\"]\n",
        "Y = df[\"target\"]\n",
        "Xtrain, Xtest, Ytrain, Ytest = train_test_split(X,Y, test_size = 0.30)\n",
        "Yt = np_utils.to_categorical(Ytrain)\n",
        "Yt"
      ],
      "execution_count": null,
      "outputs": [
        {
          "output_type": "execute_result",
          "data": {
            "text/plain": [
              "array([[0., 0., 1., ..., 0., 0., 0.],\n",
              "       [0., 0., 1., ..., 0., 0., 0.],\n",
              "       [0., 0., 0., ..., 1., 0., 0.],\n",
              "       ...,\n",
              "       [0., 0., 1., ..., 0., 0., 0.],\n",
              "       [0., 0., 0., ..., 1., 0., 0.],\n",
              "       [0., 0., 0., ..., 0., 0., 0.]], dtype=float32)"
            ]
          },
          "metadata": {
            "tags": []
          },
          "execution_count": 71
        }
      ]
    },
    {
      "cell_type": "code",
      "metadata": {
        "id": "L8D_ebzHllHA",
        "colab": {
          "base_uri": "https://localhost:8080/"
        },
        "outputId": "04d0cfe5-d634-4ab2-87cd-af3e61ee8878"
      },
      "source": [
        "tokenizer_inputs = Tokenizer(num_words=2000)\n",
        "tokenizer_inputs.fit_on_texts(Xtrain)\n",
        "word2idx_inputs = tokenizer_inputs.word_index\n",
        "word2idx_inputs['SOS'] = 0\n",
        "print('Found %s unique input tokens.' % len(word2idx_inputs))"
      ],
      "execution_count": null,
      "outputs": [
        {
          "output_type": "stream",
          "text": [
            "Found 21814 unique input tokens.\n"
          ],
          "name": "stdout"
        }
      ]
    },
    {
      "cell_type": "code",
      "metadata": {
        "id": "J4kL1OVSl50D",
        "colab": {
          "base_uri": "https://localhost:8080/"
        },
        "outputId": "87ff7f3c-e87c-42c5-f4dc-22cc0dfd11d4"
      },
      "source": [
        "from sklearn.feature_extraction.text import TfidfVectorizer\n",
        "tfidf = TfidfVectorizer(max_features=2000,vocabulary = word2idx_inputs)\n",
        "\n",
        "Xtrain = tfidf.fit_transform(Xtrain)\n",
        "\n",
        "Xtrain = pd.DataFrame(Xtrain.toarray())\n",
        "Xtrain = Xtrain.to_numpy()\n",
        "\n",
        "from sklearn.decomposition import TruncatedSVD\n",
        "tsvd = TruncatedSVD(n_components=200)\n",
        "Xtrain = tsvd.fit(Xtrain).transform(Xtrain)\n",
        "Xtrain\n",
        "# pca = KernelPCA(n_components=100, kernel='rbf')\n",
        "# abc = pca.fit_transform(data)"
      ],
      "execution_count": null,
      "outputs": [
        {
          "output_type": "execute_result",
          "data": {
            "text/plain": [
              "array([[ 0.18283779, -0.0700744 , -0.09715766, ..., -0.01685376,\n",
              "         0.00347506,  0.01299288],\n",
              "       [ 0.1816091 ,  0.10265931, -0.08084395, ..., -0.01005099,\n",
              "         0.0242204 , -0.00045246],\n",
              "       [ 0.11656073, -0.06129664, -0.04354654, ...,  0.00787842,\n",
              "        -0.00890394, -0.00073819],\n",
              "       ...,\n",
              "       [ 0.0480683 , -0.02635731,  0.01268506, ...,  0.0039069 ,\n",
              "         0.03191859,  0.03144123],\n",
              "       [ 0.2029253 , -0.06256147, -0.1352502 , ...,  0.01787983,\n",
              "        -0.00769224,  0.00718393],\n",
              "       [ 0.09559535, -0.0371355 , -0.00283907, ..., -0.00922295,\n",
              "         0.03080878, -0.0276215 ]])"
            ]
          },
          "metadata": {
            "tags": []
          },
          "execution_count": 73
        }
      ]
    },
    {
      "cell_type": "code",
      "metadata": {
        "id": "-gdejtFK05Is"
      },
      "source": [
        "input_ = Input(shape=(200,1))\n",
        "x = Bidirectional(GRU(64, return_sequences=True))(input_)\n",
        "x = Dropout(0.2)(x)\n",
        "x = Bidirectional(GRU(48, return_sequences=True))(x)\n",
        "x = Dropout(0.2)(x)\n",
        "x = GlobalMaxPool1D()(x)\n",
        "x = Flatten()(x)\n",
        "x = Dense(24,activation=\"relu\")(x)\n",
        "output = Dense(11, activation=\"softmax\")(x)\n",
        "model = Model(input_, output)"
      ],
      "execution_count": null,
      "outputs": []
    },
    {
      "cell_type": "code",
      "metadata": {
        "id": "IbneNwsv1Ys0"
      },
      "source": [
        "model.compile(\n",
        "  loss='categorical_crossentropy',\n",
        "  optimizer='adam',\n",
        "  metrics=['accuracy'],\n",
        ")"
      ],
      "execution_count": null,
      "outputs": []
    },
    {
      "cell_type": "code",
      "metadata": {
        "id": "RCxaZWQA1b7D",
        "colab": {
          "base_uri": "https://localhost:8080/"
        },
        "outputId": "c6d42507-ccf8-4ece-b3fa-8814f108426b"
      },
      "source": [
        "print('Training model...')\n",
        "r = model.fit(\n",
        "  Xtrain,\n",
        "  Yt,\n",
        "  batch_size=64,\n",
        "  epochs=50,\n",
        "  validation_split=0.4\n",
        ")"
      ],
      "execution_count": null,
      "outputs": [
        {
          "output_type": "stream",
          "text": [
            "Training model...\n",
            "Epoch 1/50\n",
            "253/253 [==============================] - 14s 57ms/step - loss: 2.0696 - accuracy: 0.2277 - val_loss: 2.0395 - val_accuracy: 0.2274\n",
            "Epoch 2/50\n",
            "253/253 [==============================] - 13s 53ms/step - loss: 2.0106 - accuracy: 0.2286 - val_loss: 2.0181 - val_accuracy: 0.2344\n",
            "Epoch 3/50\n",
            "253/253 [==============================] - 13s 52ms/step - loss: 2.0064 - accuracy: 0.2359 - val_loss: 2.0210 - val_accuracy: 0.2295\n",
            "Epoch 4/50\n",
            "253/253 [==============================] - 13s 52ms/step - loss: 2.0024 - accuracy: 0.2367 - val_loss: 2.0102 - val_accuracy: 0.2384\n",
            "Epoch 5/50\n",
            "253/253 [==============================] - 13s 52ms/step - loss: 1.9969 - accuracy: 0.2441 - val_loss: 2.0019 - val_accuracy: 0.2421\n",
            "Epoch 6/50\n",
            "253/253 [==============================] - 13s 52ms/step - loss: 1.9924 - accuracy: 0.2461 - val_loss: 1.9973 - val_accuracy: 0.2411\n",
            "Epoch 7/50\n",
            "253/253 [==============================] - 13s 52ms/step - loss: 1.9895 - accuracy: 0.2562 - val_loss: 2.0079 - val_accuracy: 0.2409\n",
            "Epoch 8/50\n",
            "253/253 [==============================] - 13s 52ms/step - loss: 1.9850 - accuracy: 0.2602 - val_loss: 1.9958 - val_accuracy: 0.2585\n",
            "Epoch 9/50\n",
            "253/253 [==============================] - 13s 52ms/step - loss: 1.9822 - accuracy: 0.2644 - val_loss: 2.0079 - val_accuracy: 0.2564\n",
            "Epoch 10/50\n",
            "253/253 [==============================] - 13s 52ms/step - loss: 1.9753 - accuracy: 0.2700 - val_loss: 1.9976 - val_accuracy: 0.2693\n",
            "Epoch 11/50\n",
            "253/253 [==============================] - 14s 53ms/step - loss: 1.9716 - accuracy: 0.2712 - val_loss: 1.9852 - val_accuracy: 0.2718\n",
            "Epoch 12/50\n",
            "253/253 [==============================] - 13s 53ms/step - loss: 1.9695 - accuracy: 0.2768 - val_loss: 1.9946 - val_accuracy: 0.2659\n",
            "Epoch 13/50\n",
            "253/253 [==============================] - 13s 53ms/step - loss: 1.9655 - accuracy: 0.2774 - val_loss: 1.9864 - val_accuracy: 0.2677\n",
            "Epoch 14/50\n",
            "253/253 [==============================] - 13s 53ms/step - loss: 1.9603 - accuracy: 0.2832 - val_loss: 1.9783 - val_accuracy: 0.2768\n",
            "Epoch 15/50\n",
            "253/253 [==============================] - 13s 53ms/step - loss: 1.9541 - accuracy: 0.2840 - val_loss: 1.9617 - val_accuracy: 0.2858\n",
            "Epoch 16/50\n",
            "253/253 [==============================] - 13s 52ms/step - loss: 1.9465 - accuracy: 0.2869 - val_loss: 1.9687 - val_accuracy: 0.2864\n",
            "Epoch 17/50\n",
            "253/253 [==============================] - 13s 53ms/step - loss: 1.9408 - accuracy: 0.2911 - val_loss: 1.9616 - val_accuracy: 0.2838\n",
            "Epoch 18/50\n",
            "253/253 [==============================] - 13s 53ms/step - loss: 1.9378 - accuracy: 0.2915 - val_loss: 1.9627 - val_accuracy: 0.2894\n",
            "Epoch 19/50\n",
            "253/253 [==============================] - 13s 53ms/step - loss: 1.9290 - accuracy: 0.2954 - val_loss: 1.9511 - val_accuracy: 0.3019\n",
            "Epoch 20/50\n",
            "253/253 [==============================] - 13s 53ms/step - loss: 1.9244 - accuracy: 0.3010 - val_loss: 1.9777 - val_accuracy: 0.2790\n",
            "Epoch 21/50\n",
            "253/253 [==============================] - 13s 53ms/step - loss: 1.9188 - accuracy: 0.3007 - val_loss: 1.9528 - val_accuracy: 0.2939\n",
            "Epoch 22/50\n",
            "253/253 [==============================] - 13s 53ms/step - loss: 1.9154 - accuracy: 0.3035 - val_loss: 1.9527 - val_accuracy: 0.2971\n",
            "Epoch 23/50\n",
            "253/253 [==============================] - 13s 53ms/step - loss: 1.9112 - accuracy: 0.3053 - val_loss: 1.9542 - val_accuracy: 0.2962\n",
            "Epoch 24/50\n",
            "253/253 [==============================] - 13s 53ms/step - loss: 1.9086 - accuracy: 0.3058 - val_loss: 1.9539 - val_accuracy: 0.2992\n",
            "Epoch 25/50\n",
            "253/253 [==============================] - 13s 53ms/step - loss: 1.9031 - accuracy: 0.3090 - val_loss: 1.9533 - val_accuracy: 0.2948\n",
            "Epoch 26/50\n",
            "253/253 [==============================] - 13s 53ms/step - loss: 1.8982 - accuracy: 0.3109 - val_loss: 1.9412 - val_accuracy: 0.3036\n",
            "Epoch 27/50\n",
            "253/253 [==============================] - 13s 53ms/step - loss: 1.8961 - accuracy: 0.3124 - val_loss: 1.9426 - val_accuracy: 0.2993\n",
            "Epoch 28/50\n",
            "253/253 [==============================] - 13s 53ms/step - loss: 1.8935 - accuracy: 0.3121 - val_loss: 1.9452 - val_accuracy: 0.3008\n",
            "Epoch 29/50\n",
            "253/253 [==============================] - 13s 53ms/step - loss: 1.8917 - accuracy: 0.3131 - val_loss: 1.9420 - val_accuracy: 0.2999\n",
            "Epoch 30/50\n",
            "253/253 [==============================] - 13s 53ms/step - loss: 1.8873 - accuracy: 0.3164 - val_loss: 1.9261 - val_accuracy: 0.3089\n",
            "Epoch 31/50\n",
            "253/253 [==============================] - 13s 53ms/step - loss: 1.8815 - accuracy: 0.3149 - val_loss: 1.9471 - val_accuracy: 0.2949\n",
            "Epoch 32/50\n",
            "253/253 [==============================] - 13s 53ms/step - loss: 1.8793 - accuracy: 0.3211 - val_loss: 1.9435 - val_accuracy: 0.3025\n",
            "Epoch 33/50\n",
            "253/253 [==============================] - 13s 53ms/step - loss: 1.8749 - accuracy: 0.3233 - val_loss: 1.9251 - val_accuracy: 0.3074\n",
            "Epoch 34/50\n",
            "253/253 [==============================] - 13s 53ms/step - loss: 1.8724 - accuracy: 0.3188 - val_loss: 1.9435 - val_accuracy: 0.2948\n",
            "Epoch 35/50\n",
            "253/253 [==============================] - 13s 53ms/step - loss: 1.8714 - accuracy: 0.3212 - val_loss: 1.9306 - val_accuracy: 0.3049\n",
            "Epoch 36/50\n",
            "253/253 [==============================] - 13s 53ms/step - loss: 1.8674 - accuracy: 0.3223 - val_loss: 1.9313 - val_accuracy: 0.3041\n",
            "Epoch 37/50\n",
            "253/253 [==============================] - 13s 53ms/step - loss: 1.8617 - accuracy: 0.3234 - val_loss: 1.9370 - val_accuracy: 0.2982\n",
            "Epoch 38/50\n",
            "253/253 [==============================] - 13s 53ms/step - loss: 1.8610 - accuracy: 0.3294 - val_loss: 1.9744 - val_accuracy: 0.2929\n",
            "Epoch 39/50\n",
            "253/253 [==============================] - 13s 53ms/step - loss: 1.8556 - accuracy: 0.3291 - val_loss: 1.9309 - val_accuracy: 0.3018\n",
            "Epoch 40/50\n",
            "253/253 [==============================] - 13s 53ms/step - loss: 1.8525 - accuracy: 0.3282 - val_loss: 1.9262 - val_accuracy: 0.3046\n",
            "Epoch 41/50\n",
            "253/253 [==============================] - 13s 53ms/step - loss: 1.8481 - accuracy: 0.3331 - val_loss: 1.9674 - val_accuracy: 0.2909\n",
            "Epoch 42/50\n",
            "253/253 [==============================] - 13s 53ms/step - loss: 1.8472 - accuracy: 0.3337 - val_loss: 1.9557 - val_accuracy: 0.2849\n",
            "Epoch 43/50\n",
            "253/253 [==============================] - 14s 54ms/step - loss: 1.8408 - accuracy: 0.3333 - val_loss: 1.9459 - val_accuracy: 0.3014\n",
            "Epoch 44/50\n",
            "253/253 [==============================] - 13s 53ms/step - loss: 1.8400 - accuracy: 0.3345 - val_loss: 1.9374 - val_accuracy: 0.3031\n",
            "Epoch 45/50\n",
            "253/253 [==============================] - 13s 53ms/step - loss: 1.8349 - accuracy: 0.3344 - val_loss: 1.9431 - val_accuracy: 0.2937\n",
            "Epoch 46/50\n",
            "253/253 [==============================] - 13s 53ms/step - loss: 1.8281 - accuracy: 0.3404 - val_loss: 1.9324 - val_accuracy: 0.3071\n",
            "Epoch 47/50\n",
            "253/253 [==============================] - 13s 53ms/step - loss: 1.8232 - accuracy: 0.3435 - val_loss: 1.9351 - val_accuracy: 0.3063\n",
            "Epoch 48/50\n",
            "253/253 [==============================] - 13s 53ms/step - loss: 1.8226 - accuracy: 0.3422 - val_loss: 1.9303 - val_accuracy: 0.3010\n",
            "Epoch 49/50\n",
            "253/253 [==============================] - 13s 53ms/step - loss: 1.8210 - accuracy: 0.3408 - val_loss: 1.9638 - val_accuracy: 0.2942\n",
            "Epoch 50/50\n",
            "253/253 [==============================] - 13s 53ms/step - loss: 1.8155 - accuracy: 0.3425 - val_loss: 1.9386 - val_accuracy: 0.3005\n"
          ],
          "name": "stdout"
        }
      ]
    },
    {
      "cell_type": "code",
      "metadata": {
        "id": "6t_K_ZvfEaQv",
        "colab": {
          "base_uri": "https://localhost:8080/"
        },
        "outputId": "8813f9ee-4257-486f-9065-48f800c14145"
      },
      "source": [
        "import matplotlib.pyplot as plt\n",
        "plt.plot(r.history['loss'], label='loss')\n",
        "plt.plot(r.history['val_loss'], label='val_loss')\n",
        "plt.legend()\n",
        "plt.show()\n",
        "\n",
        "# accuracies\n",
        "plt.plot(r.history['accuracy'], label='acc')\n",
        "plt.plot(r.history['val_accuracy'], label='val_acc')\n",
        "plt.legend()\n",
        "plt.show()"
      ],
      "execution_count": null,
      "outputs": [
        {
          "output_type": "display_data",
          "data": {
            "image/png": "[encoded data removed]",
            "text/plain": [
              "<Figure size 432x288 with 1 Axes>"
            ]
          },
          "metadata": {
            "tags": [],
            "needs_background": "light"
          }
        },
        {
          "output_type": "display_data",
          "data": {
            "image/png": "[encoded data removed]",
            "text/plain": [
              "<Figure size 432x288 with 1 Axes>"
            ]
          },
          "metadata": {
            "tags": [],
            "needs_background": "light"
          }
        }
      ]
    },
    {
      "cell_type": "code",
      "metadata": {
        "id": "TeU_DTRUEcLO",
        "colab": {
          "base_uri": "https://localhost:8080/"
        },
        "outputId": "fac3df7f-dda2-47fb-f33f-4d460aecf259"
      },
      "source": [
        "Xtest = tfidf.fit_transform(Xtest)\n",
        "Xtest = pd.DataFrame(Xtest.toarray())\n",
        "Xtest = Xtest.to_numpy()\n",
        "Xtest = tsvd.fit(Xtest).transform(Xtest)\n",
        "\n",
        "p = model.predict(Xtest)\n",
        "print(p)\n",
        "p = np.argmax(p, axis=1)\n",
        "print(p)\n",
        "\n",
        "from sklearn.metrics import confusion_matrix\n",
        "cnfv=confusion_matrix(Ytest,p)\n",
        "print(cnfv)\n",
        "\n",
        "from sklearn.metrics import classification_report\n",
        "print(classification_report(Ytest, p))"
      ],
      "execution_count": null,
      "outputs": [
        {
          "output_type": "stream",
          "text": [
            "[[0.14952713 0.01280597 0.27195996 ... 0.08453423 0.00627599 0.05025619]\n",
            " [0.14667074 0.00921646 0.19393632 ... 0.09162169 0.00722679 0.03443255]\n",
            " [0.19505164 0.00879193 0.08779635 ... 0.1384288  0.00525794 0.07777108]\n",
            " ...\n",
            " [0.0408422  0.00154251 0.12207859 ... 0.24862738 0.0018949  0.05934634]\n",
            " [0.27786916 0.01076774 0.08677942 ... 0.09753888 0.0058496  0.0626109 ]\n",
            " [0.07067497 0.00270554 0.23641416 ... 0.13461031 0.00125678 0.0687926 ]]\n",
            "[3 3 3 ... 5 3 3]\n",
            "[[  83    0  215  943    0  154    0    4  201    0    0]\n",
            " [   3    0   10   34    0    4    0    0    5    0    0]\n",
            " [  86    0  603 1460    0  145    0    6  248    0    0]\n",
            " [ 112    0  360 1597    0  183    0    3  283    0    0]\n",
            " [  24    0  107  390    0   49    0    4   78    0    0]\n",
            " [  40    0  115  588    0  196    0    4  190    0    0]\n",
            " [  21    0   66  345    0   42    0    0   82    0    0]\n",
            " [  21    0   55  242    0   27    0    2   49    0    0]\n",
            " [  73    0  211  850    0  119    0    2  298    0    0]\n",
            " [   0    0    7   15    0    1    0    0    7    0    0]\n",
            " [  24    0   54  297    0   31    0    2   55    0    0]]\n",
            "              precision    recall  f1-score   support\n",
            "\n",
            "           0       0.17      0.05      0.08      1600\n",
            "           1       0.00      0.00      0.00        56\n",
            "           2       0.33      0.24      0.28      2548\n",
            "           3       0.24      0.63      0.34      2538\n",
            "           4       0.00      0.00      0.00       652\n",
            "           5       0.21      0.17      0.19      1133\n",
            "           6       0.00      0.00      0.00       556\n",
            "           7       0.07      0.01      0.01       396\n",
            "           8       0.20      0.19      0.20      1553\n",
            "           9       0.00      0.00      0.00        30\n",
            "          10       0.00      0.00      0.00       463\n",
            "\n",
            "    accuracy                           0.24     11525\n",
            "   macro avg       0.11      0.12      0.10     11525\n",
            "weighted avg       0.20      0.24      0.19     11525\n",
            "\n"
          ],
          "name": "stdout"
        },
        {
          "output_type": "stream",
          "text": [
            "/usr/local/lib/python3.6/dist-packages/sklearn/metrics/_classification.py:1272: UndefinedMetricWarning: Precision and F-score are ill-defined and being set to 0.0 in labels with no predicted samples. Use `zero_division` parameter to control this behavior.\n",
            "  _warn_prf(average, modifier, msg_start, len(result))\n"
          ],
          "name": "stderr"
        }
      ]
    },
    {
      "cell_type": "code",
      "metadata": {
        "id": "IadUkbmgVfCo"
      },
      "source": [
        ""
      ],
      "execution_count": null,
      "outputs": []
    }
  ]
}